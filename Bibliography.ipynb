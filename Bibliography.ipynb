{
 "cells": [
  {
   "cell_type": "markdown",
   "id": "cf400d55-6686-4d7d-84d1-429d1b8e7ee1",
   "metadata": {},
   "source": [
    "Ajunwa, Ifeoma. The Paradox of Automation as Anti-Bias Intervention. Cardozo Law Review, 2020.\n",
    "\n",
    "Binns, Reuben, et al. “It’s Reducing a Human Being to a Percentage”: Perceptions of Justice in Algorithmic Decisions. Proceedings of the 2018 CHI Conference. ACM, 2018.\n",
    "\n",
    "Cappelli, Peter. Making the Most of On-Line Recruiting. Harvard Business Review, 2001.\n",
    "\n",
    "Dastin, Jeffrey. “Amazon Scraps Secret AI Recruiting Tool That Showed Bias Against Women.” Reuters, October 10, 2018.\n",
    "\n",
    "Equal Employment Opportunity Commission (EEOC). Artificial Intelligence and Algorithmic Fairness in Employment Decisions. Washington, DC: EEOC, 2023.\n",
    "\n",
    "Marcus, Gary, and Ernest Davis. Rebooting AI: Building Artificial Intelligence We Can Trust. Pantheon, 2022.\n",
    "\n",
    "McStay, Andrew. Emotional AI: The Rise of Empathic Media. Sage Publications, 2023.\n",
    "\n",
    "Raghavan, Manish, et al. Mitigating Bias in Algorithmic Hiring: Evaluating Claims and Practices. Proceedings of the 2020 Conference on Fairness, Accountability, and Transparency. ACM, 2020.\n",
    "\n",
    "Raji, Inioluwa Deborah, et al. Closing the AI Accountability Gap: Defining Responsibility for AI Systems. Proceedings of the 2020 Conference on Fairness, Accountability, and Transparency. ACM, 2020.\n",
    "\n"
   ]
  },
  {
   "cell_type": "code",
   "execution_count": null,
   "id": "7b0e79cd-d91b-4f14-b481-6466e237c7b5",
   "metadata": {},
   "outputs": [],
   "source": []
  }
 ],
 "metadata": {
  "kernelspec": {
   "display_name": "Python 3 (ipykernel)",
   "language": "python",
   "name": "python3"
  },
  "language_info": {
   "codemirror_mode": {
    "name": "ipython",
    "version": 3
   },
   "file_extension": ".py",
   "mimetype": "text/x-python",
   "name": "python",
   "nbconvert_exporter": "python",
   "pygments_lexer": "ipython3",
   "version": "3.10.12"
  }
 },
 "nbformat": 4,
 "nbformat_minor": 5
}
